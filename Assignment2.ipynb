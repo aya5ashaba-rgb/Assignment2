{
 "cells": [
  {
   "cell_type": "code",
   "execution_count": null,
   "id": "6917be36-0d85-49a3-b9b4-4a0fb9923278",
   "metadata": {},
   "outputs": [],
   "source": [
    "import numpy as np\n",
    "from pyspark import SparkContext\n",
    "\n",
    "sc = SparkContext()\n",
    "data = np.arange(1,31)\n",
    "rdd_test = sc.parallelize(data)\n",
    "rdd_test.collect()\n"
   ]
  },
  {
   "cell_type": "markdown",
   "id": "94eaede0",
   "metadata": {},
   "source": []
  },
  {
   "cell_type": "code",
   "execution_count": null,
   "id": "57f44b73-8d7d-4704-8e4e-82fe92727a8e",
   "metadata": {},
   "outputs": [],
   "source": [
    "rdd_test.filter(lambda x: x % 2 == 0).count()\n"
   ]
  },
  {
   "cell_type": "code",
   "execution_count": null,
   "id": "f6338c55-1c7a-43b5-a58e-71d399424833",
   "metadata": {},
   "outputs": [],
   "source": [
    "rdd_test.max()\n"
   ]
  },
  {
   "cell_type": "code",
   "execution_count": null,
   "id": "14a6168c-dea3-4f24-b091-685848c03410",
   "metadata": {},
   "outputs": [],
   "source": [
    "rdd_test.filter(lambda x: x > 15).collect()\n"
   ]
  },
  {
   "cell_type": "code",
   "execution_count": null,
   "id": "e4040ad2-ed72-4db0-975c-6ddea86c7133",
   "metadata": {},
   "outputs": [],
   "source": [
    "rdd_test.map(lambda x: x * 2).collect()\n"
   ]
  }
 ],
 "metadata": {
  "kernelspec": {
   "display_name": "Python 3 (ipykernel)",
   "language": "python",
   "name": "python3"
  },
  "language_info": {
   "codemirror_mode": {
    "name": "ipython",
    "version": 3
   },
   "file_extension": ".py",
   "mimetype": "text/x-python",
   "name": "python",
   "nbconvert_exporter": "python",
   "pygments_lexer": "ipython3",
   "version": "3.11.6"
  }
 },
 "nbformat": 4,
 "nbformat_minor": 5
}
